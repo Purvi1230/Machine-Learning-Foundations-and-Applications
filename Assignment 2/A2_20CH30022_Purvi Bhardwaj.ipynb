{
 "cells": [
  {
   "cell_type": "code",
   "execution_count": 34,
   "id": "3cf458cc",
   "metadata": {},
   "outputs": [],
   "source": [
    "import numpy as np\n",
    "import pandas as pd       \n",
    "import tensorflow as tf\n",
    "import matplotlib.pyplot as plt\n",
    "from sklearn.preprocessing import LabelBinarizer"
   ]
  },
  {
   "cell_type": "code",
   "execution_count": 35,
   "id": "6e78f43d",
   "metadata": {},
   "outputs": [],
   "source": [
    "from tensorflow.keras.models import Sequential\n",
    "from tensorflow.keras.layers import Flatten\n",
    "from tensorflow.keras.layers import BatchNormalization\n",
    "from tensorflow.keras.layers import Activation\n",
    "from tensorflow.keras.layers import Dense\n",
    "from tensorflow.keras.optimizers import SGD\n",
    "from tensorflow.keras.datasets import mnist"
   ]
  },
  {
   "cell_type": "code",
   "execution_count": 36,
   "id": "24897b43",
   "metadata": {},
   "outputs": [
    {
     "name": "stdout",
     "output_type": "stream",
     "text": [
      "MNIST dataset\n",
      "Shape of training data (60000, 28, 28)\n",
      "Shape of test data (10000, 28, 28)\n"
     ]
    }
   ],
   "source": [
    "((Xtrain, Ytrain), (Xtest, Ytest)) = mnist.load_data()\n",
    "print(\"MNIST dataset\")\n",
    "print('Shape of training data',Xtrain.shape)\n",
    "print('Shape of test data',Xtest.shape)"
   ]
  },
  {
   "cell_type": "code",
   "execution_count": 37,
   "id": "60d0a2b7",
   "metadata": {},
   "outputs": [
    {
     "data": {
      "image/png": "[encoded data removed]",
      "text/plain": [
       "<Figure size 432x288 with 2 Axes>"
      ]
     },
     "metadata": {
      "needs_background": "light"
     },
     "output_type": "display_data"
    },
    {
     "name": "stdout",
     "output_type": "stream",
     "text": [
      "8\n"
     ]
    }
   ],
   "source": [
    "plt.figure()\n",
    "plt.imshow(Xtrain[58888])\n",
    "plt.colorbar()\n",
    "plt.show()\n",
    "print(Ytrain[58888])"
   ]
  },
  {
   "cell_type": "code",
   "execution_count": 38,
   "id": "0a55832b",
   "metadata": {},
   "outputs": [
    {
     "data": {
      "image/png": "[encoded data removed]",
      "text/plain": [
       "<Figure size 432x288 with 2 Axes>"
      ]
     },
     "metadata": {
      "needs_background": "light"
     },
     "output_type": "display_data"
    },
    {
     "name": "stdout",
     "output_type": "stream",
     "text": [
      "8\n"
     ]
    }
   ],
   "source": [
    "Xtrain = Xtrain.astype(\"float32\") / 255.0\n",
    "Xtest = Xtest.astype(\"float32\") / 255.0\n",
    "plt.figure()\n",
    "plt.imshow(Xtrain[58888])\n",
    "plt.colorbar()\n",
    "plt.show()\n",
    "print(Ytrain[58888])"
   ]
  },
  {
   "cell_type": "code",
   "execution_count": 39,
   "id": "bbefae17",
   "metadata": {},
   "outputs": [],
   "source": [
    "Ytrain = LabelBinarizer().fit_transform(Ytrain)\n",
    "Ytest = LabelBinarizer().fit_transform(Ytest)"
   ]
  },
  {
   "cell_type": "code",
   "execution_count": 40,
   "id": "9fcb5573",
   "metadata": {},
   "outputs": [],
   "source": [
    "model = Sequential()\n",
    "model.add(Flatten(input_shape=(28,28)))\n",
    "model.add(Dense(128))\n",
    "model.add(Activation(\"sigmoid\"))\n",
    "model.add(BatchNormalization())\n",
    "model.add(Dense(64))\n",
    "model.add(Activation(\"sigmoid\"))\n",
    "model.add(BatchNormalization())\n",
    "model.add(Dense(10, activation=\"softmax\"))"
   ]
  },
  {
   "cell_type": "code",
   "execution_count": 41,
   "id": "8a816076",
   "metadata": {},
   "outputs": [
    {
     "name": "stdout",
     "output_type": "stream",
     "text": [
      "Epoch 1/10\n",
      "938/938 [==============================] - 8s 6ms/step - loss: 0.3171 - accuracy: 0.9066 - val_loss: 0.2019 - val_accuracy: 0.9409\n",
      "Epoch 2/10\n",
      "938/938 [==============================] - 5s 6ms/step - loss: 0.1683 - accuracy: 0.9505 - val_loss: 0.1247 - val_accuracy: 0.9619\n",
      "Epoch 3/10\n",
      "938/938 [==============================] - 6s 6ms/step - loss: 0.1086 - accuracy: 0.9676 - val_loss: 0.1047 - val_accuracy: 0.9712\n",
      "Epoch 4/10\n",
      "938/938 [==============================] - 5s 5ms/step - loss: 0.0821 - accuracy: 0.9746 - val_loss: 0.0916 - val_accuracy: 0.9721\n",
      "Epoch 5/10\n",
      "938/938 [==============================] - 6s 6ms/step - loss: 0.0657 - accuracy: 0.9793 - val_loss: 0.0900 - val_accuracy: 0.9734\n",
      "Epoch 6/10\n",
      "938/938 [==============================] - 6s 6ms/step - loss: 0.0533 - accuracy: 0.9829 - val_loss: 0.0866 - val_accuracy: 0.9732\n",
      "Epoch 7/10\n",
      "938/938 [==============================] - 5s 6ms/step - loss: 0.0437 - accuracy: 0.9859 - val_loss: 0.0730 - val_accuracy: 0.9774\n",
      "Epoch 8/10\n",
      "938/938 [==============================] - 6s 6ms/step - loss: 0.0349 - accuracy: 0.9883 - val_loss: 0.0779 - val_accuracy: 0.9774\n",
      "Epoch 9/10\n",
      "938/938 [==============================] - 5s 6ms/step - loss: 0.0306 - accuracy: 0.9901 - val_loss: 0.0744 - val_accuracy: 0.9795\n",
      "Epoch 10/10\n",
      "938/938 [==============================] - 6s 6ms/step - loss: 0.0282 - accuracy: 0.9909 - val_loss: 0.0756 - val_accuracy: 0.9776\n"
     ]
    }
   ],
   "source": [
    "batch_size=64\n",
    "sgd = SGD(0.0001)\n",
    "model.compile(loss=\"categorical_crossentropy\", optimizer='adam', metrics=[\"accuracy\"])\n",
    "Hyp = model.fit(Xtrain, Ytrain, validation_data=(Xtest,Ytest), epochs=10, batch_size=batch_size)"
   ]
  },
  {
   "cell_type": "code",
   "execution_count": 42,
   "id": "d7ba1a4c",
   "metadata": {},
   "outputs": [
    {
     "name": "stdout",
     "output_type": "stream",
     "text": [
      "Evaluating network...\n",
      "313/313 [==============================] - 1s 3ms/step - loss: 0.0756 - accuracy: 0.9776\n"
     ]
    }
   ],
   "source": [
    "print(\"Evaluating network...\")\n",
    "test_loss, test_acc = model.evaluate(Xtest,  Ytest)"
   ]
  },
  {
   "cell_type": "code",
   "execution_count": 43,
   "id": "a30085b2",
   "metadata": {},
   "outputs": [
    {
     "name": "stdout",
     "output_type": "stream",
     "text": [
      "313/313 [==============================] - 1s 3ms/step\n",
      "[1.5914061e-06 1.7754651e-08 3.9738012e-07 4.8347606e-06 2.1220849e-07\n",
      " 1.7069135e-07 1.2483449e-09 9.9990499e-01 6.6599256e-07 8.7045490e-05]\n",
      "7\n"
     ]
    }
   ],
   "source": [
    "predictions = model.predict(Xtest)\n",
    "print(predictions[0])\n",
    "print(np.argmax(predictions[0]))"
   ]
  },
  {
   "cell_type": "code",
   "execution_count": 44,
   "id": "fca3db39",
   "metadata": {},
   "outputs": [
    {
     "data": {
      "image/png": "[encoded data removed]",
      "text/plain": [
       "<Figure size 432x288 with 1 Axes>"
      ]
     },
     "metadata": {
      "needs_background": "light"
     },
     "output_type": "display_data"
    }
   ],
   "source": [
    "plt.figure()\n",
    "plt.plot(np.arange(0, 10), Hyp.history[\"loss\"], label=\"train_loss\")\n",
    "plt.plot(np.arange(0, 10), Hyp.history[\"val_loss\"], label=\"val_loss\")\n",
    "plt.plot(np.arange(0, 10), Hyp.history[\"accuracy\"], label=\"train_acc\")\n",
    "plt.plot(np.arange(0, 10), Hyp.history[\"val_accuracy\"], label=\"val_acc\")\n",
    "plt.title(\"Training Loss and Accuracy\")\n",
    "plt.xlabel(\"Epoch #\")\n",
    "plt.ylabel(\"Loss/Accuracy\")\n",
    "plt.legend()\n",
    "plt.show()"
   ]
  },
  {
   "cell_type": "code",
   "execution_count": 45,
   "id": "f07853c6",
   "metadata": {},
   "outputs": [],
   "source": [
    "from tensorflow.keras.models import Sequential\n",
    "from tensorflow.keras.layers import Flatten\n",
    "from tensorflow.keras.layers import BatchNormalization\n",
    "from tensorflow.keras.layers import Activation\n",
    "from tensorflow.keras.layers import Dense\n",
    "from tensorflow.keras.optimizers import SGD\n",
    "from tensorflow.keras.datasets import mnist"
   ]
  },
  {
   "cell_type": "code",
   "execution_count": 46,
   "id": "3884909b",
   "metadata": {},
   "outputs": [
    {
     "name": "stdout",
     "output_type": "stream",
     "text": [
      "MNIST dataset\n",
      "Shape of training data (60000, 28, 28)\n",
      "Shape of test data (10000, 28, 28)\n"
     ]
    }
   ],
   "source": [
    "((Xtrain, Ytrain), (Xtest, Ytest)) = mnist.load_data()\n",
    "print(\"MNIST dataset\")\n",
    "print('Shape of training data',Xtrain.shape)\n",
    "print('Shape of test data',Xtest.shape)"
   ]
  },
  {
   "cell_type": "code",
   "execution_count": 47,
   "id": "20f1210b",
   "metadata": {},
   "outputs": [],
   "source": [
    "Xtrain = Xtrain.astype(\"float32\") / 255.0\n",
    "Xtest = Xtest.astype(\"float32\") / 255.0\n",
    "Ytrain = LabelBinarizer().fit_transform(Ytrain)\n",
    "Ytest = LabelBinarizer().fit_transform(Ytest)"
   ]
  },
  {
   "cell_type": "code",
   "execution_count": 26,
   "id": "3203c61c",
   "metadata": {},
   "outputs": [],
   "source": [
    "model = Sequential()\n",
    "model.add(Flatten(input_shape=(28,28)))\n",
    "model.add(Dense(128))\n",
    "model.add(Activation(\"relu\"))\n",
    "model.add(BatchNormalization())\n",
    "model.add(Dense(64))\n",
    "model.add(Activation(\"relu\"))\n",
    "model.add(BatchNormalization())\n",
    "model.add(Dense(10, activation=\"softmax\"))"
   ]
  },
  {
   "cell_type": "code",
   "execution_count": 27,
   "id": "39095dd4",
   "metadata": {},
   "outputs": [
    {
     "name": "stdout",
     "output_type": "stream",
     "text": [
      "Epoch 1/10\n",
      "938/938 [==============================] - 8s 6ms/step - loss: 0.2431 - accuracy: 0.9287 - val_loss: 0.1246 - val_accuracy: 0.9625\n",
      "Epoch 2/10\n",
      "938/938 [==============================] - 5s 6ms/step - loss: 0.1072 - accuracy: 0.9670 - val_loss: 0.0951 - val_accuracy: 0.9711\n",
      "Epoch 3/10\n",
      "938/938 [==============================] - 5s 6ms/step - loss: 0.0763 - accuracy: 0.9761 - val_loss: 0.0840 - val_accuracy: 0.9729\n",
      "Epoch 4/10\n",
      "938/938 [==============================] - 5s 6ms/step - loss: 0.0605 - accuracy: 0.9804 - val_loss: 0.0775 - val_accuracy: 0.9760\n",
      "Epoch 5/10\n",
      "938/938 [==============================] - 6s 6ms/step - loss: 0.0521 - accuracy: 0.9827 - val_loss: 0.0818 - val_accuracy: 0.9760\n",
      "Epoch 6/10\n",
      "938/938 [==============================] - 6s 6ms/step - loss: 0.0422 - accuracy: 0.9866 - val_loss: 0.0831 - val_accuracy: 0.9744\n",
      "Epoch 7/10\n",
      "938/938 [==============================] - 6s 6ms/step - loss: 0.0390 - accuracy: 0.9872 - val_loss: 0.0786 - val_accuracy: 0.9769\n",
      "Epoch 8/10\n",
      "938/938 [==============================] - 6s 6ms/step - loss: 0.0320 - accuracy: 0.9893 - val_loss: 0.0828 - val_accuracy: 0.9749\n",
      "Epoch 9/10\n",
      "938/938 [==============================] - 6s 7ms/step - loss: 0.0271 - accuracy: 0.9910 - val_loss: 0.0863 - val_accuracy: 0.9772\n",
      "Epoch 10/10\n",
      "938/938 [==============================] - 5s 6ms/step - loss: 0.0286 - accuracy: 0.9909 - val_loss: 0.0830 - val_accuracy: 0.9759\n"
     ]
    }
   ],
   "source": [
    "batch_size=64\n",
    "sgd = SGD(0.0001)\n",
    "model.compile(loss=\"categorical_crossentropy\", optimizer='adam', metrics=[\"accuracy\"])\n",
    "Hyp = model.fit(Xtrain, Ytrain, validation_data=(Xtest,Ytest), epochs=10, batch_size=batch_size)"
   ]
  },
  {
   "cell_type": "code",
   "execution_count": 28,
   "id": "2172d129",
   "metadata": {},
   "outputs": [
    {
     "name": "stdout",
     "output_type": "stream",
     "text": [
      "Evaluating network...\n",
      "313/313 [==============================] - 1s 3ms/step - loss: 0.0830 - accuracy: 0.9759\n"
     ]
    }
   ],
   "source": [
    "print(\"Evaluating network...\")\n",
    "test_loss, test_acc = model.evaluate(Xtest,  Ytest)"
   ]
  },
  {
   "cell_type": "code",
   "execution_count": 29,
   "id": "5de3d98f",
   "metadata": {},
   "outputs": [
    {
     "name": "stdout",
     "output_type": "stream",
     "text": [
      "313/313 [==============================] - 1s 3ms/step\n",
      "[4.8068478e-07 4.3868781e-10 9.4763129e-07 2.4072340e-06 7.7710986e-08\n",
      " 2.1616047e-07 5.5389005e-08 9.9999475e-01 4.7374988e-09 1.0798278e-06]\n",
      "7\n"
     ]
    }
   ],
   "source": [
    "predictions = model.predict(Xtest)\n",
    "print(predictions[0])\n",
    "print(np.argmax(predictions[0]))"
   ]
  },
  {
   "cell_type": "code",
   "execution_count": 48,
   "id": "fd81901b",
   "metadata": {},
   "outputs": [
    {
     "data": {
      "image/png": "[encoded data removed]",
      "text/plain": [
       "<Figure size 432x288 with 1 Axes>"
      ]
     },
     "metadata": {
      "needs_background": "light"
     },
     "output_type": "display_data"
    }
   ],
   "source": [
    "plt.figure()\n",
    "plt.plot(np.arange(0, 10), Hyp.history[\"loss\"], label=\"train_loss\")\n",
    "plt.plot(np.arange(0, 10), Hyp.history[\"val_loss\"], label=\"val_loss\")\n",
    "plt.plot(np.arange(0, 10), Hyp.history[\"accuracy\"], label=\"train_acc\")\n",
    "plt.plot(np.arange(0, 10), Hyp.history[\"val_accuracy\"], label=\"val_acc\")\n",
    "plt.title(\"Training Loss and Accuracy\")\n",
    "plt.xlabel(\"Epoch #\")\n",
    "plt.ylabel(\"Loss/Accuracy\")\n",
    "plt.legend()\n",
    "plt.show()"
   ]
  },
  {
   "cell_type": "code",
   "execution_count": null,
   "id": "143fc01c",
   "metadata": {},
   "outputs": [],
   "source": []
  }
 ],
 "metadata": {
  "kernelspec": {
   "display_name": "Python 3 (ipykernel)",
   "language": "python",
   "name": "python3"
  },
  "language_info": {
   "codemirror_mode": {
    "name": "ipython",
    "version": 3
   },
   "file_extension": ".py",
   "mimetype": "text/x-python",
   "name": "python",
   "nbconvert_exporter": "python",
   "pygments_lexer": "ipython3",
   "version": "3.9.13"
  }
 },
 "nbformat": 4,
 "nbformat_minor": 5
}
